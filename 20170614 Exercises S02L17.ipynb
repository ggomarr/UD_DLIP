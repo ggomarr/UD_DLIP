{
 "cells": [
  {
   "cell_type": "code",
   "execution_count": 1,
   "metadata": {
    "collapsed": true,
    "deletable": true,
    "editable": true
   },
   "outputs": [],
   "source": [
    "%matplotlib inline\n",
    "import pandas as pd\n",
    "import numpy as np\n",
    "import matplotlib.pyplot as plt"
   ]
  },
  {
   "cell_type": "markdown",
   "metadata": {
    "deletable": true,
    "editable": true
   },
   "source": [
    "## Forward propagation"
   ]
  },
  {
   "cell_type": "code",
   "execution_count": 2,
   "metadata": {
    "collapsed": true,
    "deletable": true,
    "editable": true
   },
   "outputs": [],
   "source": [
    "def process(X,W,b):\n",
    "    return X.dot(W)+b\n",
    "def sigmoid(v):\n",
    "    return 1/(1+np.exp(-v))\n",
    "def softmax(v):\n",
    "    expv=np.exp(v)\n",
    "    if v.shape[0]>1:\n",
    "        return expv/expv.sum(axis=1,keepdims=True)\n",
    "    else:\n",
    "        return expv/expv.sum(axis=1)\n",
    "def forward(X,W,b,func=sigmoid,softmax_output=True):\n",
    "    v=X\n",
    "    for l in range(len(W)-1):\n",
    "        v=func(process(v,W[l],b[l]))\n",
    "    if softmax_output:\n",
    "        return softmax(process(v,W[-1],b[-1]))\n",
    "    else:\n",
    "        return process(v,W[-1],b[-1])\n",
    "def classification_rate(Y,P):\n",
    "    tot=Y.shape[0]\n",
    "    return 1.0*sum([Y[i]==P[i] for i in range(tot)])/tot"
   ]
  },
  {
   "cell_type": "markdown",
   "metadata": {
    "deletable": true,
    "editable": true
   },
   "source": [
    "## Exercise 3"
   ]
  },
  {
   "cell_type": "code",
   "execution_count": 3,
   "metadata": {
    "collapsed": false,
    "deletable": true,
    "editable": true
   },
   "outputs": [
    {
     "data": {
      "text/plain": [
       "matrix([[ 0.26991483,  0.73008517]])"
      ]
     },
     "execution_count": 3,
     "metadata": {},
     "output_type": "execute_result"
    }
   ],
   "source": [
    "X=np.matrix([[1,2]])\n",
    "W=[np.matrix([[1,1],[1,0]]),\n",
    "   np.matrix([[0,1],[1,1]])]\n",
    "b=[[0,0],\n",
    "   [0,0]]\n",
    "preds=forward(X,W,b,func=np.tanh,softmax_output=True)\n",
    "preds[:5]"
   ]
  },
  {
   "cell_type": "code",
   "execution_count": null,
   "metadata": {
    "collapsed": true,
    "deletable": true,
    "editable": true
   },
   "outputs": [],
   "source": []
  }
 ],
 "metadata": {
  "kernelspec": {
   "display_name": "Python 2",
   "language": "python",
   "name": "python2"
  },
  "language_info": {
   "codemirror_mode": {
    "name": "ipython",
    "version": 2
   },
   "file_extension": ".py",
   "mimetype": "text/x-python",
   "name": "python",
   "nbconvert_exporter": "python",
   "pygments_lexer": "ipython2",
   "version": "2.7.13"
  }
 },
 "nbformat": 4,
 "nbformat_minor": 2
}
