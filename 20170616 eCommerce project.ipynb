{
 "cells": [
  {
   "cell_type": "code",
   "execution_count": 3,
   "metadata": {
    "collapsed": true,
    "deletable": true,
    "editable": true
   },
   "outputs": [],
   "source": [
    "%matplotlib inline\n",
    "import matplotlib.pyplot as plt\n",
    "import pandas as pd\n",
    "import numpy as np\n",
    "import sklearn"
   ]
  },
  {
   "cell_type": "markdown",
   "metadata": {
    "deletable": true,
    "editable": true
   },
   "source": [
    "# Data preparation"
   ]
  },
  {
   "cell_type": "code",
   "execution_count": 4,
   "metadata": {
    "collapsed": false,
    "deletable": true,
    "editable": true
   },
   "outputs": [],
   "source": [
    "def normalize_col(col):\n",
    "    avg=col.mean()\n",
    "    std=col.std()\n",
    "    return col.map(lambda x: (x-avg)/std)\n",
    "def turn_categorical(df,cols):\n",
    "    for col in cols:\n",
    "        df=pd.concat([df,pd.get_dummies(df[col],prefix=col,prefix_sep='_')],axis=1).drop(col,axis=1)\n",
    "    return df"
   ]
  },
  {
   "cell_type": "code",
   "execution_count": 5,
   "metadata": {
    "collapsed": false,
    "deletable": true,
    "editable": true,
    "scrolled": true
   },
   "outputs": [
    {
     "data": {
      "text/html": [
       "<div>\n",
       "<table border=\"1\" class=\"dataframe\">\n",
       "  <thead>\n",
       "    <tr style=\"text-align: right;\">\n",
       "      <th></th>\n",
       "      <th>is_mobile</th>\n",
       "      <th>n_products_viewed</th>\n",
       "      <th>visit_duration</th>\n",
       "      <th>is_returning_visitor</th>\n",
       "      <th>user_action</th>\n",
       "      <th>time_of_day_0</th>\n",
       "      <th>time_of_day_1</th>\n",
       "      <th>time_of_day_2</th>\n",
       "      <th>time_of_day_3</th>\n",
       "    </tr>\n",
       "  </thead>\n",
       "  <tbody>\n",
       "    <tr>\n",
       "      <th>0</th>\n",
       "      <td>1</td>\n",
       "      <td>-0.816161</td>\n",
       "      <td>-0.407869</td>\n",
       "      <td>0</td>\n",
       "      <td>0</td>\n",
       "      <td>0</td>\n",
       "      <td>0</td>\n",
       "      <td>0</td>\n",
       "      <td>1</td>\n",
       "    </tr>\n",
       "    <tr>\n",
       "      <th>1</th>\n",
       "      <td>1</td>\n",
       "      <td>0.139531</td>\n",
       "      <td>-0.498929</td>\n",
       "      <td>0</td>\n",
       "      <td>1</td>\n",
       "      <td>0</td>\n",
       "      <td>0</td>\n",
       "      <td>1</td>\n",
       "      <td>0</td>\n",
       "    </tr>\n",
       "    <tr>\n",
       "      <th>2</th>\n",
       "      <td>1</td>\n",
       "      <td>-0.816161</td>\n",
       "      <td>-1.037804</td>\n",
       "      <td>1</td>\n",
       "      <td>0</td>\n",
       "      <td>0</td>\n",
       "      <td>1</td>\n",
       "      <td>0</td>\n",
       "      <td>0</td>\n",
       "    </tr>\n",
       "    <tr>\n",
       "      <th>6</th>\n",
       "      <td>0</td>\n",
       "      <td>-0.816161</td>\n",
       "      <td>0.393614</td>\n",
       "      <td>1</td>\n",
       "      <td>0</td>\n",
       "      <td>0</td>\n",
       "      <td>1</td>\n",
       "      <td>0</td>\n",
       "      <td>0</td>\n",
       "    </tr>\n",
       "    <tr>\n",
       "      <th>7</th>\n",
       "      <td>1</td>\n",
       "      <td>-0.816161</td>\n",
       "      <td>-1.044956</td>\n",
       "      <td>0</td>\n",
       "      <td>0</td>\n",
       "      <td>0</td>\n",
       "      <td>0</td>\n",
       "      <td>0</td>\n",
       "      <td>1</td>\n",
       "    </tr>\n",
       "  </tbody>\n",
       "</table>\n",
       "</div>"
      ],
      "text/plain": [
       "   is_mobile  n_products_viewed  visit_duration  is_returning_visitor  \\\n",
       "0          1          -0.816161       -0.407869                     0   \n",
       "1          1           0.139531       -0.498929                     0   \n",
       "2          1          -0.816161       -1.037804                     1   \n",
       "6          0          -0.816161        0.393614                     1   \n",
       "7          1          -0.816161       -1.044956                     0   \n",
       "\n",
       "   user_action  time_of_day_0  time_of_day_1  time_of_day_2  time_of_day_3  \n",
       "0            0              0              0              0              1  \n",
       "1            1              0              0              1              0  \n",
       "2            0              0              1              0              0  \n",
       "6            0              0              1              0              0  \n",
       "7            0              0              0              0              1  "
      ]
     },
     "execution_count": 5,
     "metadata": {},
     "output_type": "execute_result"
    }
   ],
   "source": [
    "data=pd.read_csv('data/ecommerce_data.csv')\n",
    "data[['n_products_viewed','visit_duration']]=data[['n_products_viewed','visit_duration']].apply(normalize_col)\n",
    "data=turn_categorical(data,['time_of_day'])\n",
    "data=data[data['user_action']<=1]\n",
    "data.head()"
   ]
  },
  {
   "cell_type": "code",
   "execution_count": 24,
   "metadata": {
    "collapsed": false,
    "deletable": true,
    "editable": true
   },
   "outputs": [
    {
     "data": {
      "text/plain": [
       "((398, 8), (398,))"
      ]
     },
     "execution_count": 24,
     "metadata": {},
     "output_type": "execute_result"
    }
   ],
   "source": [
    "X=data.drop('user_action',axis=1).as_matrix()\n",
    "Y=data['user_action'].as_matrix()\n",
    "X.shape,Y.shape"
   ]
  },
  {
   "cell_type": "markdown",
   "metadata": {
    "deletable": true,
    "editable": true
   },
   "source": [
    "# Functions"
   ]
  },
  {
   "cell_type": "markdown",
   "metadata": {
    "deletable": true,
    "editable": true
   },
   "source": [
    "## Generic"
   ]
  },
  {
   "cell_type": "code",
   "execution_count": 63,
   "metadata": {
    "collapsed": true,
    "deletable": true,
    "editable": true
   },
   "outputs": [],
   "source": [
    "def one_hot_encoder(v):\n",
    "    return np.eye(v.max()+1)[v]\n",
    "def softmax(v):\n",
    "    expv=np.exp(v)\n",
    "    if v.shape[0]>1:\n",
    "        return expv/expv.sum(axis=1,keepdims=True)\n",
    "    else:\n",
    "        return expv/expv.sum(axis=1)\n",
    "def compute_cost(T,Y):\n",
    "    return -(T*np.log(Y)).mean()\n",
    "def compute_accuracy(Y,P):\n",
    "    return (Y==P).mean()"
   ]
  },
  {
   "cell_type": "markdown",
   "metadata": {
    "deletable": true,
    "editable": true
   },
   "source": [
    "## Logistic regression"
   ]
  },
  {
   "cell_type": "code",
   "execution_count": 43,
   "metadata": {
    "collapsed": false,
    "deletable": true,
    "editable": true
   },
   "outputs": [],
   "source": [
    "def populate_W(X,Y):\n",
    "    return np.random.rand(X[0].size+1,Y.max()+1)\n",
    "def forward(X,W,softmax_output=True):\n",
    "    X=np.append(X,np.ones((X.shape[0],1)),1)\n",
    "    if softmax_output:\n",
    "        return softmax(X.dot(W))\n",
    "    else:\n",
    "        return X.dot(W)\n",
    "def train(X,Y,num_test=100,random_state=None,\n",
    "          W_0=None,\n",
    "          learning_rate=10e-3,num_rounds=10000,\n",
    "          report_step=10,print_every=1000,plot_cost=True):\n",
    "    reports=[]\n",
    "    X,Y=sklearn.utils.shuffle(X,Y,random_state=random_state)\n",
    "    X_train,Y_train=X[:-num_test],Y[:-num_test]\n",
    "    X_test,Y_test=X[-num_test:],Y[-num_test:]\n",
    "    T_train,T_test=one_hot_encoder(Y_train),one_hot_encoder(Y_test)\n",
    "    if W_0!=None:\n",
    "        W=W_0\n",
    "    else:\n",
    "        W=populate_W(X_train,Y_train)\n",
    "    for n in range(num_rounds):\n",
    "        preds_train=forward(X_train,W)\n",
    "        preds_test=forward(X_test,W)\n",
    "        if n % report_step==0:\n",
    "            cost_train=compute_cost(T_train,preds_train)\n",
    "            cost_test=compute_cost(T_test,preds_test)\n",
    "            if print_every and n % print_every==0:\n",
    "                print(\"{:4d} {:0.5f} {:0.5f}\".format(n,cost_train,cost_test))\n",
    "            reports.append([n,cost_train,cost_test])\n",
    "        X_ext=np.append(X_train,np.ones((X_train.shape[0],1)),1)\n",
    "        W=W-learning_rate*X_ext.T.dot(preds_train-T_train)\n",
    "    cost_train=compute_cost(T_train,preds_train)\n",
    "    cost_test=compute_cost(T_test,preds_test)\n",
    "    reports.append([n,cost_train,cost_test])\n",
    "    print('Train: {:0.5f}, Test: {:0.5f}'.format(compute_accuracy(Y_train,np.argmax(preds_train,axis=1)),\n",
    "                                                 compute_accuracy(Y_test,np.argmax(preds_test,axis=1))))\n",
    "    if plot_cost:\n",
    "        plt.plot([r[1] for r in reports])\n",
    "        plt.plot([r[2] for r in reports])\n",
    "        plt.show()\n",
    "    return W,reports"
   ]
  },
  {
   "cell_type": "code",
   "execution_count": 46,
   "metadata": {
    "collapsed": false,
    "deletable": true,
    "editable": true,
    "scrolled": false
   },
   "outputs": [
    {
     "name": "stdout",
     "output_type": "stream",
     "text": [
      "   0 0.37271 0.37187\n",
      "1000 0.04964 0.26008\n",
      "2000 0.04964 0.26009\n",
      "3000 0.04964 0.26009\n",
      "4000 0.04964 0.26009\n",
      "5000 0.04964 0.26009\n",
      "6000 0.04964 0.26009\n",
      "7000 0.04964 0.26009\n",
      "8000 0.04964 0.26009\n",
      "9000 0.04964 0.26009\n",
      "Train: 0.98322, Test: 0.92000\n"
     ]
    },
    {
     "data": {
      "image/png": "[encoded data removed]",
      "text/plain": [
       "<matplotlib.figure.Figure at 0x7f7bfff3e350>"
      ]
     },
     "metadata": {},
     "output_type": "display_data"
    },
    {
     "name": "stdout",
     "output_type": "stream",
     "text": [
      "CPU times: user 1.25 s, sys: 152 ms, total: 1.4 s\n",
      "Wall time: 1.24 s\n"
     ]
    }
   ],
   "source": [
    "%%time\n",
    "W,report=train(X,Y,random_state=42,report_step=10,print_every=1000)"
   ]
  },
  {
   "cell_type": "markdown",
   "metadata": {
    "deletable": true,
    "editable": true
   },
   "source": [
    "## Neural network"
   ]
  },
  {
   "cell_type": "code",
   "execution_count": 57,
   "metadata": {
    "collapsed": false,
    "deletable": true,
    "editable": true
   },
   "outputs": [],
   "source": [
    "def populate_W(X,Y,net_structure):\n",
    "    net_structure=[X[0].size]+net_structure+[Y.max()+1]\n",
    "    W=[]\n",
    "    for i in range(len(net_structure)-1):\n",
    "        W.append(np.random.randn(net_structure[i]+1,net_structure[i+1]))\n",
    "    return W\n",
    "def process(X,W):\n",
    "    X=np.append(X,np.ones((X.shape[0],1)),1)\n",
    "    return X.dot(W)\n",
    "def sigmoid(v):\n",
    "    return 1/(1+np.exp(-v))\n",
    "def forward(X,W,func=sigmoid,softmax_output=True):\n",
    "    v=[X]\n",
    "    for l in range(len(W)):\n",
    "        v.append(func(process(v[-1],W[l])))\n",
    "    if softmax_output:\n",
    "        v[-1]=softmax(v[-1])\n",
    "    return v\n",
    "def derivate(layer,delta,W):\n",
    "    next_delta=delta.dot(W[:-1,:].T)*layer*(1-layer)\n",
    "    layer=np.append(layer,np.ones((layer.shape[0],1)),1)\n",
    "    return layer.T.dot(delta),next_delta\n",
    "def train(X,Y,net_structure,W_0=None,\n",
    "          num_test=100,random_state=None,\n",
    "          learning_rate=10e-7,num_rounds=100000,\n",
    "          report_step=100,print_every=5000,plot_cost=True):\n",
    "    reports=[]\n",
    "    X,Y=sklearn.utils.shuffle(X,Y,random_state=random_state)\n",
    "    X_train,Y_train=X[:-num_test],Y[:-num_test]\n",
    "    X_test,Y_test=X[-num_test:],Y[-num_test:]\n",
    "    T_train,T_test=one_hot_encoder(Y_train),one_hot_encoder(Y_test)\n",
    "    if W_0!=None:\n",
    "        W=W_0\n",
    "    else:\n",
    "        W=populate_W(X_train,Y_train,net_structure)\n",
    "    for n in range(num_rounds):\n",
    "        preds_train,preds_test=forward(X_train,W),forward(X_test,W)\n",
    "        if n % report_step==0:\n",
    "            cost_train,cost_test=compute_cost(T_train,preds_train[-1]),compute_cost(T_test,preds_test[-1])\n",
    "            if print_every and n % print_every==0:\n",
    "                print(\"{:5d} {:0.5f} {:0.5f}\".format(n,cost_train,cost_test))\n",
    "            reports.append([n,cost_train,cost_test])\n",
    "        delta=preds_train[-1]-T_train\n",
    "        for l in reversed(range(len(W))):\n",
    "            gradient,new_delta=derivate(preds_train[l],delta,W[l])\n",
    "            delta=new_delta\n",
    "            W[l]=W[l]-learning_rate*gradient\n",
    "    cost_train,cost_test=compute_cost(T_train,preds_train[-1]),compute_cost(T_test,preds_test[-1])\n",
    "    reports.append([num_rounds,cost_train,cost_test])\n",
    "    print('Train: {:0.5f}, Test: {:0.5f}'.format(compute_accuracy(Y_train,np.argmax(preds_train[-1],axis=1)),\n",
    "                                                 compute_accuracy(Y_test,np.argmax(preds_test[-1],axis=1))))\n",
    "    if plot_cost:\n",
    "        plt.plot([r[1] for r in reports])\n",
    "        plt.plot([r[2] for r in reports])\n",
    "        plt.show()\n",
    "    return W,reports"
   ]
  },
  {
   "cell_type": "code",
   "execution_count": 62,
   "metadata": {
    "collapsed": false,
    "deletable": true,
    "editable": true
   },
   "outputs": [
    {
     "name": "stdout",
     "output_type": "stream",
     "text": [
      "    0 0.37098 0.36861\n",
      "10000 0.19894 0.22740\n",
      "20000 0.16529 0.19681\n",
      "30000 0.16502 0.19663\n",
      "40000 0.16274 0.19663\n",
      "50000 0.16188 0.19663\n",
      "60000 0.16188 0.19663\n",
      "70000 0.16221 0.19663\n",
      "80000 0.16258 0.19663\n",
      "90000 0.16141 0.19168\n",
      "Train: 0.98993, Test: 0.93000\n"
     ]
    },
    {
     "data": {
      "image/png": "[encoded data removed]",
      "text/plain": [
       "<matplotlib.figure.Figure at 0x7f7c09570b50>"
      ]
     },
     "metadata": {},
     "output_type": "display_data"
    },
    {
     "name": "stdout",
     "output_type": "stream",
     "text": [
      "CPU times: user 57.3 s, sys: 140 ms, total: 57.4 s\n",
      "Wall time: 57.3 s\n"
     ]
    }
   ],
   "source": [
    "%%time\n",
    "W,report=train(X,Y,net_structure=[8,8],learning_rate=10e-6,random_state=42,report_step=100,print_every=10000)"
   ]
  },
  {
   "cell_type": "code",
   "execution_count": null,
   "metadata": {
    "collapsed": true
   },
   "outputs": [],
   "source": []
  }
 ],
 "metadata": {
  "kernelspec": {
   "display_name": "Python 2",
   "language": "python",
   "name": "python2"
  },
  "language_info": {
   "codemirror_mode": {
    "name": "ipython",
    "version": 2
   },
   "file_extension": ".py",
   "mimetype": "text/x-python",
   "name": "python",
   "nbconvert_exporter": "python",
   "pygments_lexer": "ipython2",
   "version": "2.7.13"
  }
 },
 "nbformat": 4,
 "nbformat_minor": 2
}
